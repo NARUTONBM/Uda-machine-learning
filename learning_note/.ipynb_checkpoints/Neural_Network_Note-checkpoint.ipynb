{
 "cells": [
  {
   "cell_type": "markdown",
   "metadata": {},
   "source": [
    "# Neural Networks Notes"
   ]
  },
  {
   "cell_type": "markdown",
   "metadata": {},
   "source": [
    "--------\n",
    "不妨先简单地将神经网络理解为：能自动从数据中学习到合适的权重的模型"
   ]
  },
  {
   "cell_type": "markdown",
   "metadata": {},
   "source": [
    "## 本节知识要点"
   ]
  },
  {
   "cell_type": "markdown",
   "metadata": {},
   "source": [
    "----\n",
    "### 1.分类问题\n",
    "神经网络是机器学习中的一种模型，可以用于两类问题的解答：\n",
    "   - 分类：把数据划分成不同的类别\n",
    "   - 回归：建立数据间的连续关系"
   ]
  },
  {
   "cell_type": "markdown",
   "metadata": {},
   "source": [
    "### 2.感知机(`perceptron`)\n",
    "1. 感知机接收多个输入，输出一个结果。其结果只有`Positive/Negative(1/0)`两种取值。通常将感知机的方程用向量法简写为：$$Wx + b = 0\\\\W = (w_{1}, w_{2}, \\cdots)\\\\x = (x_{1}, x_{2}, \\cdots)\\\\y = label:0 or 1))\\\\PREDICTION:\\\\ \\hat{y} = \\begin{cases} 1, &Wx + b \\geq0\\\\ 0, &Wx + b < 0\\end{cases}$$"
   ]
  },
  {
   "cell_type": "code",
   "execution_count": null,
   "metadata": {},
   "outputs": [],
   "source": []
  }
 ],
 "metadata": {
  "kernelspec": {
   "display_name": "Python 3",
   "language": "python",
   "name": "python3"
  },
  "language_info": {
   "codemirror_mode": {
    "name": "ipython",
    "version": 3
   },
   "file_extension": ".py",
   "mimetype": "text/x-python",
   "name": "python",
   "nbconvert_exporter": "python",
   "pygments_lexer": "ipython3",
   "version": "3.7.0"
  }
 },
 "nbformat": 4,
 "nbformat_minor": 2
}
