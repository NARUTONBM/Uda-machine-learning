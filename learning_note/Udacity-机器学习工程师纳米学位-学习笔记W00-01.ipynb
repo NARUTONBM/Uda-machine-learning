{
 "cells": [
  {
   "cell_type": "markdown",
   "metadata": {},
   "source": [
    "# Udacity-机器学习工程师纳米学位-学习笔记W00-01"
   ]
  },
  {
   "cell_type": "markdown",
   "metadata": {},
   "source": [
    "## 简介"
   ]
  },
  {
   "cell_type": "markdown",
   "metadata": {},
   "source": [
    "这将是我的Uda机器学习课程专题笔记，目前的计划是周一至周五学习，然后周末的时间来整理复习，内容不局限于Uda课程所讲，我还会夹杂一些吴恩达的人工智能课、《深度学习入门 基于Python的理论与实现》这本书等等其他拓展的知识。第一次写博客，也是刚入门，希望看到这篇博客的朋友，技术上多交流，有错误多指正。"
   ]
  },
  {
   "cell_type": "markdown",
   "metadata": {},
   "source": [
    "## 基础知识梳理"
   ]
  },
  {
   "cell_type": "markdown",
   "metadata": {},
   "source": [
    "### 1.基本知识概念"
   ]
  },
  {
   "cell_type": "markdown",
   "metadata": {},
   "source": [
    "- 期望值(`expected value`)：即均值，体现的是随机变量可能取值的加权平均值，即根据每个取值出现的概率描述作为一个整体的随机变量的规律。<br>这里需要区分离散性和连续性的期望：<br>离散型的期望计算：$$E(X) = \\sum_{k=1}^{N}x_{k}p_{k}$$<br>连续性的期望计算：\n",
    "$$E(X) = \\int_{-\\propto}^{+\\propto}xf(x)dx$$\n",
    "- 方差(`variance`)：表示的是随机变量的取值与其期望的偏离程度。方差较小意味着随机变量的取值集中在数学期望附近，方差较大则意味着随机变量的取值比较分散。\n",
    "- 协方差(`covariance`)：度量两个随机变量之间的线性相关性，即变量Y能否表示成以另一个变量$X$为自变量的$aX+b$的形式。协方差的绝对值如果很大则意味着变量值变化很大并且它们同时距离各自的均值很远。如果协方差是正的，那么两个变量都倾向于同时取得相对较大的值。如果协方差是负的，那么其中一个变量倾向于取得相对较大的值的同时，另一个变量倾向于取得相对较小的值，反之亦然。\n",
    "- 维度(`dimension`)：即特征维度，而维数就是特征数目，这里有一个维度灾难问题需要关注一下，先推荐一篇文章[机器学习中的维度灾难](https://blog.csdn.net/red_stone1/article/details/71692444)\n",
    "- 二元分类(`binary classification`)：指的是那些结果只有两种的问题，二元分类一般分为正例(`positive`)和反例(`negative`)，通常表示为（`1/0`）。最终模型预测的结果有四种："
   ]
  },
  {
   "cell_type": "markdown",
   "metadata": {},
   "source": [
    "   |   \\    | Guessed<br>Positive|  Guessed<br>Nagative |\n",
    "   | -------- |:------------------:|:--------------------:|\n",
    "   | Positive | TP            | FN             |\n",
    "   | Negative | FP            | TN             |"
   ]
  },
  {
   "cell_type": "markdown",
   "metadata": {},
   "source": [
    "- 多元分布(`multi-class classification`)：即结果多于两类的问题。"
   ]
  },
  {
   "cell_type": "markdown",
   "metadata": {},
   "source": [
    "### 2.机器学习常见模型"
   ]
  },
  {
   "cell_type": "markdown",
   "metadata": {},
   "source": [
    "- 决策树(``)："
   ]
  }
 ],
 "metadata": {
  "kernelspec": {
   "display_name": "Python 3",
   "language": "python",
   "name": "python3"
  },
  "language_info": {
   "codemirror_mode": {
    "name": "ipython",
    "version": 3
   },
   "file_extension": ".py",
   "mimetype": "text/x-python",
   "name": "python",
   "nbconvert_exporter": "python",
   "pygments_lexer": "ipython3",
   "version": "3.7.0"
  }
 },
 "nbformat": 4,
 "nbformat_minor": 2
}
