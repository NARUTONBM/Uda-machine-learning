{
 "cells": [
  {
   "cell_type": "markdown",
   "metadata": {},
   "source": [
    "# Udacity-机器学习工程师纳米学位-学习笔记W00-01"
   ]
  },
  {
   "cell_type": "markdown",
   "metadata": {},
   "source": [
    "## 简介"
   ]
  },
  {
   "cell_type": "markdown",
   "metadata": {},
   "source": [
    "这将是我的Uda机器学习课程专题笔记，目前的计划是周一至周五学习，然后周末的时间来整理复习，内容不局限于Uda课程所讲，我还会夹杂一些吴恩达的人工智能课、《深度学习入门 基于Python的理论与实现》这本书等等其他拓展的知识。第一次写博客，也是刚入门，希望看到这篇博客的朋友，技术上多交流，有错误多指正。"
   ]
  },
  {
   "cell_type": "markdown",
   "metadata": {},
   "source": [
    "## 基础知识梳理"
   ]
  },
  {
   "cell_type": "markdown",
   "metadata": {},
   "source": [
    "### 1.线性代数"
   ]
  },
  {
   "cell_type": "markdown",
   "metadata": {},
   "source": [
    "#### (1).基本概念"
   ]
  },
  {
   "cell_type": "markdown",
   "metadata": {},
   "source": [
    "- 标量(`scalar`)：一个变量就是一个单独的数\n",
    "- 向量(`vector`)：一个向量就是一列数，这些数表示在各个轴上的长度，可以表示为带方向的标量。\n",
    "  $$\\vec a =\n",
    "   \\begin{bmatrix}\n",
    "   a1 & a2 & a3 & \\cdots & an\n",
    "   \\end{bmatrix}\n",
    "  $$\n",
    "- 矩阵(`matrix`)：一个矩阵就是一个二维数组，其中的每一个元素被两个索引（而非一个）所确定。可以理解为多个向量的叠加，一行就是一个向量。我们通常会赋予矩阵粗体的大写变量名称，比如**A** 。\n",
    "  $$A=\n",
    "   \\begin{bmatrix}\n",
    "   A_{1,1} & A_{1,2}\\\\\n",
    "   A_{2,1} & A_{2,2}\n",
    "   \\end{bmatrix}\n",
    "  $$\n",
    "- 张量(`tensor`)：一般地，一个数组中的元素分布在若干维坐标的规则网格中，我们称之为张量。我们使用字体 **A** 来表示张量'A', 坐标为 (i, j, k) 的元素记作$ A_{i,j,k}$。\n",
    "- 转置(`transpose`)：矩阵的转置是以对角线为轴的镜像，这条从左上角到右下角的对角线被称为**主对角线**（main diagonal）。矩阵的转置表示为**$A^T$** ，定义如下：$$(A^T)_{i,j} = A_{j,i}$$向量可以看作只是一列的矩阵。对应的向量的转置可以看作是只有一行的矩阵的转置。有时，我们通过将向量元素作为行矩阵写在文本行中，然后使用转置操作将其变为标准的列向量，来定义一个向量，比如$x = [x_{1}, x_{2}, x_{3}]^T$。<br>标量可以看作是只有一个元素的矩阵。因此，标量的转置等于它本身，$a = a^T$。"
   ]
  },
  {
   "cell_type": "code",
   "execution_count": null,
   "metadata": {},
   "outputs": [],
   "source": []
  },
  {
   "cell_type": "markdown",
   "metadata": {},
   "source": []
  },
  {
   "cell_type": "code",
   "execution_count": null,
   "metadata": {},
   "outputs": [],
   "source": []
  }
 ],
 "metadata": {
  "kernelspec": {
   "display_name": "Python 3",
   "language": "python",
   "name": "python3"
  },
  "language_info": {
   "codemirror_mode": {
    "name": "ipython",
    "version": 3
   },
   "file_extension": ".py",
   "mimetype": "text/x-python",
   "name": "python",
   "nbconvert_exporter": "python",
   "pygments_lexer": "ipython3",
   "version": "3.6.7"
  }
 },
 "nbformat": 4,
 "nbformat_minor": 2
}
